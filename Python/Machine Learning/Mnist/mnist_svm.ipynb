{
 "cells": [
  {
   "cell_type": "code",
   "execution_count": 1,
   "id": "681be972",
   "metadata": {
    "executionInfo": {
     "elapsed": 7,
     "status": "ok",
     "timestamp": 1682823343797,
     "user": {
      "displayName": "Oscar Andrés Rojas Fonseca",
      "userId": "08837352127692069215"
     },
     "user_tz": 360
    },
    "id": "681be972"
   },
   "outputs": [],
   "source": [
    "%matplotlib inline"
   ]
  },
  {
   "cell_type": "markdown",
   "id": "5ad40792",
   "metadata": {
    "id": "5ad40792"
   },
   "source": [
    "##### MNIST template\n",
    "\n",
    "## Tarea 5\n",
    "\n",
    "Escuela de Ingeniería Electrónica<br>\n",
    "EL5857 Aprendizaje Automático<br>\n",
    "I Semestre 2023\n",
    "\n",
    "Este archivo permite cargar el set de datos MNIST para ser usado con scikit-learn.\n",
    "\n",
    "Puede usarlo como base para entrenar sus modelos, y para la selección de modelos.  Debe guardar sus modelos en un archivo para utilizar los mejores de ellos en ``predict_digit.ipynb``, sin necesidad de entrenar todo de nuevo cuando solo se quiera predecir."
   ]
  },
  {
   "cell_type": "markdown",
   "id": "33b69848",
   "metadata": {
    "id": "33b69848"
   },
   "source": [
    "MNIST es un set de datos bastante utilizado, y existen múltiples posibilidades de cargarlo en programas de Python.\n",
    "\n",
    "- Usando ``fetch_openml`` de ``sckit-learn`` es una opción pero tiene en algunas versiones el problema de que baja todo el conjunto de internet cada vez que se ejecuta el programa, lo que no lo hace viable.\n",
    "- Usando el paquete ``python-mnist``, que no existe en las distribuciones de conda.\n",
    "- Usando el paquete ``mnist``.\n",
    "- Usando ``pandas``.\n",
    "\n",
    "Aquí usaremos la versión que usa el paquete ``mnist``, para evitar dependencias adicionales a bibliotecas grandes.\n",
    "\n",
    "Dicho paquete carga los datos como un tensor de 60000x28x28, es decir, 60000 imágenes de 28x28 dimensiones.  Cada pixel es de tipo entero sin signo de 8 bits."
   ]
  },
  {
   "cell_type": "code",
   "execution_count": 2,
   "id": "01e7196b",
   "metadata": {
    "colab": {
     "base_uri": "https://localhost:8080/"
    },
    "executionInfo": {
     "elapsed": 7043,
     "status": "ok",
     "timestamp": 1682823350835,
     "user": {
      "displayName": "Oscar Andrés Rojas Fonseca",
      "userId": "08837352127692069215"
     },
     "user_tz": 360
    },
    "id": "01e7196b",
    "outputId": "6934aba4-6722-4d7e-94a2-09c81c59054e"
   },
   "outputs": [],
   "source": [
    "# Si le falta la biblioteca 'mnist' y usa Anaconda:\n",
    "#!conda install mnist\n",
    "\n",
    "# o cualquier otra distribución de Python:\n",
    "#!pip install mnist"
   ]
  },
  {
   "cell_type": "code",
   "execution_count": 3,
   "id": "45c10fee",
   "metadata": {
    "colab": {
     "base_uri": "https://localhost:8080/"
    },
    "executionInfo": {
     "elapsed": 1200,
     "status": "ok",
     "timestamp": 1682823352030,
     "user": {
      "displayName": "Oscar Andrés Rojas Fonseca",
      "userId": "08837352127692069215"
     },
     "user_tz": 360
    },
    "id": "45c10fee",
    "outputId": "24f26b45-06a5-4d62-d2cb-d4bfa2374254"
   },
   "outputs": [
    {
     "name": "stderr",
     "output_type": "stream",
     "text": [
      "Intel(R) Extension for Scikit-learn* enabled (https://github.com/intel/scikit-learn-intelex)\n"
     ]
    }
   ],
   "source": [
    "import mnist\n",
    "import numpy as np\n",
    "import matplotlib.pyplot as plt\n",
    "\n",
    "from sklearn.preprocessing import OneHotEncoder\n",
    "\n",
    "try:\n",
    "    from sklearnex import patch_sklearn\n",
    "    patch_sklearn()\n",
    "except:\n",
    "    print(\"No scikit-learn-intelex found.  We go on with the classic implementation.\")\n",
    "\n",
    "import time\n",
    "from pathlib import Path"
   ]
  },
  {
   "cell_type": "code",
   "execution_count": 4,
   "id": "bfef16f8",
   "metadata": {
    "colab": {
     "base_uri": "https://localhost:8080/"
    },
    "executionInfo": {
     "elapsed": 1098,
     "status": "ok",
     "timestamp": 1682823353122,
     "user": {
      "displayName": "Oscar Andrés Rojas Fonseca",
      "userId": "08837352127692069215"
     },
     "user_tz": 360
    },
    "id": "bfef16f8",
    "outputId": "e9528d8d-c28a-44cf-a45d-4eaad76a68eb"
   },
   "outputs": [
    {
     "name": "stdout",
     "output_type": "stream",
     "text": [
      "Tardó: 0.5760078430175781 s\n",
      "Entrenamiento: 60000 datos de 28x28 dimensiones\n",
      "Validación   : 10000 datos de 28x28 dimensiones\n"
     ]
    }
   ],
   "source": [
    "tic=time.time()\n",
    "\n",
    "# Asegure que el directorio de datos existe.\n",
    "datadir='./mnist_data/'\n",
    "Path(datadir).mkdir(parents=False, exist_ok=True)\n",
    "\n",
    "# temporary_dir es una función que retorna el directorio temporal;\n",
    "mnist.temporary_dir = lambda: datadir\n",
    "\n",
    "# Prepare el codificador 'one-hot'\n",
    "enc = OneHotEncoder(handle_unknown='ignore')\n",
    "\n",
    "# La primera vez, esto puede tardar unos segundos a minutos por tener\n",
    "# que bajar los datos originales de internet.\n",
    "# Después de eso debería ser rápido.\n",
    "\n",
    "# Prepare los datos de entrenamiento\n",
    "train_images = mnist.train_images() # Esto es un tensor m x 28 x 28\n",
    "train_labels = mnist.train_labels().astype(int)\n",
    "train_ohelab = enc.fit_transform(train_labels.reshape(-1,1)).toarray() # labels one-hot encoded\n",
    "\n",
    "m,h,w=train_images.shape\n",
    "train_data = train_images.reshape((m,w*h)).astype(float)/255 # Esto es una matrix de m x 784\n",
    "\n",
    "# Prepare los datos de validación\n",
    "val_images = mnist.test_images() # Esto es un tensor de m x 28 x 28\n",
    "val_labels = mnist.test_labels().astype(int)\n",
    "val_ohelab = enc.transform(val_labels.reshape(-1,1)).toarray()\n",
    "\n",
    "vm,vh,vw=val_images.shape\n",
    "val_data = val_images.reshape((vm,vw*vh)).astype(float)/255 # Esto es una matrix de m x 784\n",
    "\n",
    "\n",
    "toc=time.time()-tic\n",
    "print(\"Tardó: {0} s\".format(toc))\n",
    "\n",
    "print(\"Entrenamiento: {0} datos de {1}x{2} dimensiones\".format(m,h,w))\n",
    "print(\"Validación   : {0} datos de {1}x{2} dimensiones\".format(vm,vh,vw))"
   ]
  },
  {
   "cell_type": "markdown",
   "id": "6e5948a1",
   "metadata": {
    "id": "6e5948a1"
   },
   "source": [
    "A este punto, se cuenta con la siguiente información para poder entrenar:\n",
    "\n",
    "- train_data: arreglo de 60000 datos de 784 dimensiones\n",
    "- train_label: vector de 60000 etiquetas como enteros entre 0 y 9\n",
    "- train_ohelab: arreglo de 60000x10 con la codificación de las etiquetas _one-hot_\n",
    "- val_data: arreglo de 10000 datos de 784 dimensiones\n",
    "- val_label: vector de 10000 etiquetas como enteros entre 0 y 9\n",
    "- val_ohelab: arreglo de 10000x10 con la codificación de las etiquetas _one-hot_\n"
   ]
  },
  {
   "cell_type": "code",
   "execution_count": 5,
   "id": "be8373f7",
   "metadata": {
    "colab": {
     "base_uri": "https://localhost:8080/",
     "height": 1000
    },
    "executionInfo": {
     "elapsed": 1601,
     "status": "ok",
     "timestamp": 1682823354716,
     "user": {
      "displayName": "Oscar Andrés Rojas Fonseca",
      "userId": "08837352127692069215"
     },
     "user_tz": 360
    },
    "id": "be8373f7",
    "outputId": "c226a55f-0260-4abf-e3e5-c5068a3bbec8"
   },
   "outputs": [
    {
     "data": {
      "image/png": "[encoded data removed]",
      "text/plain": [
       "<Figure size 640x480 with 1 Axes>"
      ]
     },
     "metadata": {},
     "output_type": "display_data"
    },
    {
     "name": "stdout",
     "output_type": "stream",
     "text": [
      "Etiqueta entera: 7\n",
      "         one-hot: [0. 0. 0. 0. 0. 0. 0. 1. 0. 0.]\n"
     ]
    },
    {
     "data": {
      "image/png": "[encoded data removed]",
      "text/plain": [
       "<Figure size 640x480 with 1 Axes>"
      ]
     },
     "metadata": {},
     "output_type": "display_data"
    },
    {
     "name": "stdout",
     "output_type": "stream",
     "text": [
      "Etiqueta entera: 6\n",
      "         one-hot: [0. 0. 0. 0. 0. 0. 1. 0. 0. 0.]\n"
     ]
    },
    {
     "data": {
      "image/png": "[encoded data removed]",
      "text/plain": [
       "<Figure size 640x480 with 1 Axes>"
      ]
     },
     "metadata": {},
     "output_type": "display_data"
    },
    {
     "name": "stdout",
     "output_type": "stream",
     "text": [
      "Etiqueta entera: 6\n",
      "         one-hot: [0. 0. 0. 0. 0. 0. 1. 0. 0. 0.]\n"
     ]
    },
    {
     "data": {
      "image/png": "[encoded data removed]",
      "text/plain": [
       "<Figure size 640x480 with 1 Axes>"
      ]
     },
     "metadata": {},
     "output_type": "display_data"
    },
    {
     "name": "stdout",
     "output_type": "stream",
     "text": [
      "Etiqueta entera: 0\n",
      "         one-hot: [1. 0. 0. 0. 0. 0. 0. 0. 0. 0.]\n"
     ]
    }
   ],
   "source": [
    "# Muestre algunas muestras\n",
    "samples = np.random.choice(np.arange(m),4,replace=False)\n",
    "\n",
    "for i in samples:\n",
    "    plt.imshow(train_data[i].reshape((28,28)),cmap='gray')\n",
    "    plt.show()\n",
    "\n",
    "    print(\"Etiqueta entera:\",train_labels[i])\n",
    "    print(\"         one-hot:\",train_ohelab[i])\n"
   ]
  },
  {
   "cell_type": "markdown",
   "id": "34efbf8f",
   "metadata": {
    "id": "34efbf8f"
   },
   "source": [
    "## Entrenar/seleccionar modelos\n",
    "\n",
    "A continuación usted debe entrenar y seleccionar los modelos, y guardar el mejor de ellos para cada tipo (SVM, RDF, kNN)\n",
    "\n",
    "No olvidar la regla de oro: **¡siempre se deben normalizar los datos!**"
   ]
  },
  {
   "cell_type": "code",
   "execution_count": 6,
   "id": "06adbf28",
   "metadata": {
    "executionInfo": {
     "elapsed": 645,
     "status": "ok",
     "timestamp": 1682823355358,
     "user": {
      "displayName": "Oscar Andrés Rojas Fonseca",
      "userId": "08837352127692069215"
     },
     "user_tz": 360
    },
    "id": "06adbf28"
   },
   "outputs": [],
   "source": [
    "## Proceso de normalización Min-Max ***************************\n",
    "\n",
    "## Al asignar un valor de 1, el proceso de normalización es estándar.\n",
    "## Al asignar un valor de 2, el proceso de normalización es MinMax.\n",
    "\n",
    "import pickle\n",
    "\n",
    "metodonormalizar = 2\n",
    "\n",
    "# *************************************************************\n",
    "if metodonormalizar == 1:\n",
    "\n",
    "  from sklearn.preprocessing import StandardScaler\n",
    "\n",
    "  # Normalizar los datos de entrenamiento\n",
    "  scaler = StandardScaler()\n",
    "  train_data_norm = scaler.fit_transform(train_data)\n",
    "\n",
    "  # Normalizar los datos de validación\n",
    "  val_data_norm = scaler.transform(val_data)\n",
    "\n",
    "elif metodonormalizar == 2:\n",
    "\n",
    "  from sklearn.preprocessing import MinMaxScaler\n",
    "\n",
    "  # Normalizar los datos de entrenamiento\n",
    "  scaler = MinMaxScaler()\n",
    "  train_data_norm = scaler.fit_transform(train_data)\n",
    "\n",
    "  # Normalizar los datos de validación\n",
    "  val_data_norm = scaler.transform(val_data)\n",
    "    \n",
    "\n",
    "pickle.dump(scaler, open('Normalizadores/scaler_SVM.pkl', 'wb'))\n"
   ]
  },
  {
   "cell_type": "code",
   "execution_count": 7,
   "id": "dcd27ef4",
   "metadata": {
    "colab": {
     "base_uri": "https://localhost:8080/"
    },
    "executionInfo": {
     "elapsed": 727793,
     "status": "ok",
     "timestamp": 1682824083148,
     "user": {
      "displayName": "Oscar Andrés Rojas Fonseca",
      "userId": "08837352127692069215"
     },
     "user_tz": 360
    },
    "id": "dcd27ef4",
    "outputId": "4129859f-f519-46a7-b6ad-7f8ee70c2f6d"
   },
   "outputs": [
    {
     "name": "stdout",
     "output_type": "stream",
     "text": [
      "Tardó: 56.565401792526245 s\n"
     ]
    }
   ],
   "source": [
    "from sklearn import svm\n",
    "\n",
    "tic=time.time()\n",
    "clasificador_svm = svm.SVC(kernel='linear', C=1)\n",
    "\n",
    "# Transformar la codificación one-hot de las etiquetas a un arreglo 1D de etiquetas de clase\n",
    "train_labels2 = np.argmax(train_ohelab, axis=1)\n",
    "\n",
    "clasificador_svm.fit(train_data_norm, train_labels2)\n",
    "\n",
    "toc=time.time()-tic\n",
    "print(\"Tardó: {0} s\".format(toc))\n",
    "\n",
    "pickle.dump(clasificador_svm, open('Modelos/Modelo_SVM.sav', 'wb'))\n"
   ]
  },
  {
   "cell_type": "code",
   "execution_count": 8,
   "id": "e0e1689b",
   "metadata": {},
   "outputs": [
    {
     "data": {
      "image/png": "[encoded data removed]",
      "text/plain": [
       "<Figure size 480x480 with 2 Axes>"
      ]
     },
     "metadata": {},
     "output_type": "display_data"
    }
   ],
   "source": [
    "from sklearn.metrics import confusion_matrix\n",
    "# Calcular la matriz de confusión\n",
    "predicted_labels = clasificador_svm.predict(val_data_norm)\n",
    "\n",
    "cm = confusion_matrix(val_labels, predicted_labels)\n",
    "plt.matshow(cm,cmap='cividis')\n",
    "for i in range(cm.shape[0]):\n",
    "    for j in range(cm.shape[1]):\n",
    "        plt.text(j, i, cm[i, j], ha='center', va='center')\n",
    "# Visualizar la matriz de confusión\n",
    "\n",
    "plt.colorbar()\n",
    "plt.xlabel('Predicted')\n",
    "plt.ylabel('True')\n",
    "plt.show()"
   ]
  },
  {
   "cell_type": "markdown",
   "id": "2708e5c3",
   "metadata": {},
   "source": [
    "## Prueba de Hiperparámetros"
   ]
  },
  {
   "cell_type": "code",
   "execution_count": 9,
   "id": "c6027b57",
   "metadata": {
    "scrolled": true
   },
   "outputs": [
    {
     "name": "stdout",
     "output_type": "stream",
     "text": [
      "Entrenamiento numero 0 seccion 1\n",
      "[0.9642049513286512]\n",
      "[0.9639887945768517]\n",
      "Entrenamiento numero 0 seccion 2\n",
      "[0.9642049513286512, 0.9631515659385902]\n",
      "[0.9639887945768517, 0.9630768275184267]\n",
      "Entrenamiento numero 0 seccion 3\n",
      "[0.9642049513286512, 0.9631515659385902, 0.9626566659716723]\n",
      "[0.9639887945768517, 0.9630768275184267, 0.9625703449782884]\n",
      "Entrenamiento numero 0 seccion 4\n",
      "[0.9642049513286512, 0.9631515659385902, 0.9626566659716723, 0.9617491747705579]\n",
      "[0.9639887945768517, 0.9630768275184267, 0.9625703449782884, 0.9616781162143401]\n",
      "Entrenamiento numero 0 seccion 5\n",
      "[0.9642049513286512, 0.9631515659385902, 0.9626566659716723, 0.9617491747705579, 0.9623820759532935]\n",
      "[0.9639887945768517, 0.9630768275184267, 0.9625703449782884, 0.9616781162143401, 0.9623007880038633]\n",
      "Entrenamiento numero 1 seccion 1\n",
      "[0.9357025146741924]\n",
      "[0.9354169305564412]\n",
      "Entrenamiento numero 1 seccion 2\n",
      "[0.9357025146741924, 0.933006478996918]\n",
      "[0.9354169305564412, 0.9329067936662082]\n",
      "Entrenamiento numero 1 seccion 3\n",
      "[0.9357025146741924, 0.933006478996918, 0.9321802338160264]\n",
      "[0.9354169305564412, 0.9329067936662082, 0.9319680956408097]\n",
      "Entrenamiento numero 1 seccion 4\n",
      "[0.9357025146741924, 0.933006478996918, 0.9321802338160264, 0.9310509591622451]\n",
      "[0.9354169305564412, 0.9329067936662082, 0.9319680956408097, 0.9308199138641378]\n",
      "Entrenamiento numero 1 seccion 5\n",
      "[0.9357025146741924, 0.933006478996918, 0.9321802338160264, 0.9310509591622451, 0.9322697220271362]\n",
      "[0.9354169305564412, 0.9329067936662082, 0.9319680956408097, 0.9308199138641378, 0.9321128429318897]\n",
      "Entrenamiento numero 2 seccion 1\n",
      "[0.9799622625806416]\n",
      "[0.9799525892120355]\n",
      "Entrenamiento numero 2 seccion 2\n",
      "[0.9799622625806416, 0.9779721005865175]\n",
      "[0.9799525892120355, 0.9779988471239116]\n",
      "Entrenamiento numero 2 seccion 3\n",
      "[0.9799622625806416, 0.9779721005865175, 0.9771931687977488]\n",
      "[0.9799525892120355, 0.9779988471239116, 0.977179786828235]\n",
      "Entrenamiento numero 2 seccion 4\n",
      "[0.9799622625806416, 0.9779721005865175, 0.9771931687977488, 0.9760568292341113]\n",
      "[0.9799525892120355, 0.9779988471239116, 0.977179786828235, 0.9760437794247078]\n",
      "Entrenamiento numero 2 seccion 5\n",
      "[0.9799622625806416, 0.9779721005865175, 0.9771931687977488, 0.9760568292341113, 0.9764982739872863]\n",
      "[0.9799525892120355, 0.9779988471239116, 0.977179786828235, 0.9760437794247078, 0.9764575864427341]\n",
      "Entrenamiento numero 3 seccion 1\n",
      "[0.9552885822650042]\n",
      "[0.9548396272532103]\n",
      "Entrenamiento numero 3 seccion 2\n",
      "[0.9552885822650042, 0.9527241512853877]\n",
      "[0.9548396272532103, 0.9524783745201182]\n",
      "Entrenamiento numero 3 seccion 3\n",
      "[0.9552885822650042, 0.9527241512853877, 0.95183539512526]\n",
      "[0.9548396272532103, 0.9524783745201182, 0.951640313600388]\n",
      "Entrenamiento numero 3 seccion 4\n",
      "[0.9552885822650042, 0.9527241512853877, 0.95183539512526, 0.9510938462258949]\n",
      "[0.9548396272532103, 0.9524783745201182, 0.951640313600388, 0.9509204969929144]\n",
      "Entrenamiento numero 3 seccion 5\n",
      "[0.9552885822650042, 0.9527241512853877, 0.95183539512526, 0.9510938462258949, 0.9520743434144749]\n",
      "[0.9548396272532103, 0.9524783745201182, 0.951640313600388, 0.9509204969929144, 0.9519153718038075]\n",
      "Entrenamiento numero 4 seccion 1\n",
      "[0.9797937423186852]\n",
      "[0.9796677816769783]\n",
      "Entrenamiento numero 4 seccion 2\n",
      "[0.9797937423186852, 0.9783658575541178]\n",
      "[0.9796677816769783, 0.9783299360753065]\n",
      "Entrenamiento numero 4 seccion 3\n",
      "[0.9797937423186852, 0.9783658575541178, 0.9773684552359997]\n",
      "[0.9796677816769783, 0.9783299360753065, 0.977343583582205]\n",
      "Entrenamiento numero 4 seccion 4\n",
      "[0.9797937423186852, 0.9783658575541178, 0.9773684552359997, 0.9763495944696304]\n",
      "[0.9796677816769783, 0.9783299360753065, 0.977343583582205, 0.9763302486771044]\n",
      "Entrenamiento numero 4 seccion 5\n",
      "[0.9797937423186852, 0.9783658575541178, 0.9773684552359997, 0.9763495944696304, 0.9767658463783798]\n",
      "[0.9796677816769783, 0.9783299360753065, 0.977343583582205, 0.9763302486771044, 0.9767147321569762]\n",
      "Entrenamiento numero 5 seccion 1\n",
      "[0.9725297740866863]\n",
      "[0.9723732279535016]\n",
      "Entrenamiento numero 5 seccion 2\n",
      "[0.9725297740866863, 0.968813549874299]\n",
      "[0.9723732279535016, 0.9687675100279298]\n",
      "Entrenamiento numero 5 seccion 3\n",
      "[0.9725297740866863, 0.968813549874299, 0.9681900798666132]\n",
      "[0.9723732279535016, 0.9687675100279298, 0.9680767806913165]\n",
      "Entrenamiento numero 5 seccion 4\n",
      "[0.9725297740866863, 0.968813549874299, 0.9681900798666132, 0.9670770110064455]\n",
      "[0.9723732279535016, 0.9687675100279298, 0.9680767806913165, 0.9669636656680843]\n",
      "Entrenamiento numero 5 seccion 5\n",
      "[0.9725297740866863, 0.968813549874299, 0.9681900798666132, 0.9670770110064455, 0.9677424887220749]\n",
      "[0.9723732279535016, 0.9687675100279298, 0.9680767806913165, 0.9669636656680843, 0.9676048716184594]\n",
      "Entrenamiento numero 6 seccion 1\n",
      "[0.9372490621515224]\n",
      "[0.9363254777196628]\n",
      "Entrenamiento numero 6 seccion 2\n",
      "[0.9372490621515224, 0.9323914552864419]\n",
      "[0.9363254777196628, 0.9318717436978841]\n",
      "Entrenamiento numero 6 seccion 3\n",
      "[0.9372490621515224, 0.9323914552864419, 0.9323858092411889]\n",
      "[0.9363254777196628, 0.9318717436978841, 0.9318927526541932]\n",
      "Entrenamiento numero 6 seccion 4\n",
      "[0.9372490621515224, 0.9323914552864419, 0.9323858092411889, 0.9317037694101045]\n",
      "[0.9363254777196628, 0.9318717436978841, 0.9318927526541932, 0.9312209601040141]\n",
      "Entrenamiento numero 6 seccion 5\n",
      "[0.9372490621515224, 0.9323914552864419, 0.9323858092411889, 0.9317037694101045, 0.9327318859957259]\n",
      "[0.9363254777196628, 0.9318717436978841, 0.9318927526541932, 0.9312209601040141, 0.9322632268245765]\n",
      "Entrenamiento numero 7 seccion 1\n",
      "[0.9284471193626921]\n",
      "[0.9276180864655867]\n",
      "Entrenamiento numero 7 seccion 2\n",
      "[0.9284471193626921, 0.9222666998184428]\n",
      "[0.9276180864655867, 0.9217195699250689]\n",
      "Entrenamiento numero 7 seccion 3\n",
      "[0.9284471193626921, 0.9222666998184428, 0.9218747476511965]\n",
      "[0.9276180864655867, 0.9217195699250689, 0.9212562444626866]\n",
      "Entrenamiento numero 7 seccion 4\n",
      "[0.9284471193626921, 0.9222666998184428, 0.9218747476511965, 0.921083744365064]\n",
      "[0.9276180864655867, 0.9217195699250689, 0.9212562444626866, 0.9203970034719364]\n",
      "Entrenamiento numero 7 seccion 5\n",
      "[0.9284471193626921, 0.9222666998184428, 0.9218747476511965, 0.921083744365064, 0.9219800013282935]\n",
      "[0.9276180864655867, 0.9217195699250689, 0.9212562444626866, 0.9203970034719364, 0.92129436351098]\n",
      "Entrenamiento numero 8 seccion 1\n",
      "[0.9228718935430482]\n",
      "[0.9218731344912647]\n",
      "Entrenamiento numero 8 seccion 2\n",
      "[0.9228718935430482, 0.916237051694657]\n",
      "[0.9218731344912647, 0.9155839477189336]\n",
      "Entrenamiento numero 8 seccion 3\n",
      "[0.9228718935430482, 0.916237051694657, 0.9171576795795806]\n",
      "[0.9218731344912647, 0.9155839477189336, 0.9164469054843494]\n",
      "Entrenamiento numero 8 seccion 4\n",
      "[0.9228718935430482, 0.916237051694657, 0.9171576795795806, 0.9164063032446896]\n",
      "[0.9218731344912647, 0.9155839477189336, 0.9164469054843494, 0.9157108066675559]\n",
      "Entrenamiento numero 8 seccion 5\n",
      "[0.9228718935430482, 0.916237051694657, 0.9171576795795806, 0.9164063032446896, 0.9175692412741702]\n",
      "[0.9218731344912647, 0.9155839477189336, 0.9164469054843494, 0.9157108066675559, 0.9168528972255311]\n",
      "Tardó: 3896.3389353752136 s\n"
     ]
    }
   ],
   "source": [
    "from sklearn.model_selection import KFold\n",
    "from sklearn.metrics import precision_score, recall_score\n",
    "from sklearn.model_selection import ParameterGrid\n",
    "\n",
    "clasificador_svm = pickle.load(open('Modelos/Modelo_SVM.sav', 'rb'))\n",
    "\n",
    "tic=time.time()\n",
    "\n",
    "def Mejores_Parametros(model, X, y, params_grid, cv=3):\n",
    "    \"\"\"\n",
    "    Función para buscar los mejores hiperparámetros para un modelo utilizando validación cruzada y el frente de Pareto.\n",
    "    \n",
    "    :param model: Modelo a utilizar\n",
    "    :param X: Datos de entrenamiento\n",
    "    :param y: Etiquetas de entrenamiento\n",
    "    :param params_grid: Diccionario con los hiperparámetros a evaluar y sus posibles valores\n",
    "    :param cv: Número de particiones para la validación cruzada\n",
    "    :return: Lista con los mejores hiperparámetros encontrados en el frente de Pareto\n",
    "    \"\"\"\n",
    "    # Crear objeto KFold\n",
    "    kf = KFold(n_splits=cv)\n",
    "    \n",
    "    # Crear objeto ParameterGrid\n",
    "    param_grid = ParameterGrid(params_grid)\n",
    "    \n",
    "    # Lista para almacenar los resultados\n",
    "    precGen = []\n",
    "    recGen = []\n",
    "    params_usados = []\n",
    "\n",
    "    entrenamiento = 0\n",
    "    seccion = 0\n",
    "    \n",
    "    # Iterar sobre todas las combinaciones de hiperparámetros\n",
    "    for params in param_grid:\n",
    "        # Establecer los hiperparámetros del modelo\n",
    "        model.set_params(**params)\n",
    "        \n",
    "        # Listas para almacenar las métricas de cada partición\n",
    "        precisions = []\n",
    "        recalls = []\n",
    "        resultsPrecSVM = []\n",
    "        resultsRecSVM = []\n",
    "        \n",
    "        # Iterar sobre las particiones de validación cruzada\n",
    "        for train_index, test_index in kf.split(X):\n",
    "            # Obtener los datos de entrenamiento y validación para esta partición\n",
    "            X_train, X_test = X[train_index], X[test_index]\n",
    "            y_train, y_test = y[train_index], y[test_index]\n",
    "            \n",
    "            # Entrenar el modelo\n",
    "            model.fit(X_train, y_train)\n",
    "            \n",
    "            # Predecir las etiquetas para los datos de validación\n",
    "            y_pred = model.predict(X_test)\n",
    "            \n",
    "            # Calcular la precisión y la exhaustividad para esta partición\n",
    "            precision = precision_score(y_test, y_pred, average='macro')\n",
    "            recall = recall_score(y_test, y_pred, average='macro')\n",
    "            \n",
    "            # Agregar las métricas a las listas correspondientes\n",
    "            precisions.append(precision)\n",
    "            recalls.append(recall)\n",
    "        \n",
    "            # Calcular el promedio de las métricas para todas las particiones\n",
    "            mean_precision = np.mean(precisions)\n",
    "            mean_recall = np.mean(recalls)\n",
    "\n",
    "            resultsPrecSVM.append(mean_precision)\n",
    "            resultsRecSVM.append(mean_recall)\n",
    "\n",
    "            seccion += 1\n",
    "            print(\"Entrenamiento numero\", entrenamiento, \"seccion\", seccion)\n",
    "            print(resultsPrecSVM)\n",
    "            print(resultsRecSVM)\n",
    "        \n",
    "        precGen.append(resultsPrecSVM)\n",
    "        recGen.append(resultsRecSVM)\n",
    "        seccion = 0\n",
    "        params_usados.append(params)\n",
    "        entrenamiento += 1\n",
    "    return precGen, recGen    \n",
    "    \n",
    "# Definir el diccionario con los hiperparámetros a evaluar y sus posibles valores\n",
    "\n",
    "# El primero hace 2 entrenamientos\n",
    "# El segundo hace 4 entrenamientos\n",
    "# El tercero hace 9 entrenamientos\n",
    "# El cuarto hace 120 entrenamientos\n",
    "#params_grid =  [{'kernel': ['rbf'], 'gamma': [5e-3]}, {'kernel': ['linear'], 'gamma': [5e-3]}]\n",
    "#params_grid =  [{'kernel': ['rbf'], 'gamma': [5e-3, 1e-3]}, {'kernel': ['linear'], 'gamma': [5e-3, 1e-3]}]\n",
    "#params_grid = {'C': [0.1, 1, 10],'gamma': [0.01, 0.1, 1]\n",
    "params_grid = [{'kernel':['rbf'],'gamma':[5e-3,1e-3],'C':[1,10,100]},{'kernel':['linear'],'C':[1,10,100]}]\n",
    "#params_grid = [{'kernel':['rbf'],'gamma':[5e-3,1e-3,1e-4],'C':[1,10,100,1000]},{'kernel':['linear'],'C':[1,10,100,1000]}]\n",
    "\n",
    "\n",
    "# Supongamos que tenemos nuestros datos de entrenamiento en las variables X_train e y_train\n",
    "X_train=train_data_norm\n",
    "y_train=train_labels2\n",
    "\n",
    "# Llamar a la función search_best_params para buscar los mejores hiperparámetros\n",
    "#best_params = search_best_params(clasificador_svm, X_train, y_train, params_grid)\n",
    "cv=5\n",
    "Resultados = Mejores_Parametros(clasificador_svm, X_train, y_train, params_grid,cv)\n",
    "resultsPrecSVM = Resultados[0]\n",
    "resultsRecSVM = Resultados[1]\n",
    "\n",
    "toc=time.time()-tic\n",
    "print(\"Tardó: {0} s\".format(toc))\n"
   ]
  },
  {
   "cell_type": "code",
   "execution_count": 10,
   "id": "f41abd61",
   "metadata": {
    "scrolled": false
   },
   "outputs": [
    {
     "name": "stdout",
     "output_type": "stream",
     "text": [
      "[False False False False False False False False False False  True False\n",
      " False False False False False False False False False False False False\n",
      " False False False False False False False False False False False False\n",
      " False False False False False False False False False]\n"
     ]
    },
    {
     "data": {
      "image/png": "[encoded data removed]",
      "text/plain": [
       "<Figure size 640x480 with 1 Axes>"
      ]
     },
     "metadata": {},
     "output_type": "display_data"
    }
   ],
   "source": [
    "#precision=[[0.9565719028961498, 0.9564466525186495], [0.926733459915712, 0.9266053924951494]]\n",
    "#recall=[[0.9565090762198081, 0.9563856069074999], [0.9262343746912662, 0.9260911168032795]]\n",
    "from proceso_pareto import proceso_pareto\n",
    "#from proceso_pareto import OptimalidadPareto\n",
    "precision=np.array(resultsPrecSVM).flatten()\n",
    "\n",
    "v_eficientes=proceso_pareto(resultsPrecSVM, resultsRecSVM)\n",
    "\n",
    "\n"
   ]
  },
  {
   "cell_type": "code",
   "execution_count": 11,
   "id": "2ab93a2c",
   "metadata": {},
   "outputs": [
    {
     "name": "stdout",
     "output_type": "stream",
     "text": [
      "[{'C': 1, 'gamma': 0.005, 'kernel': 'rbf'}, {'C': 1, 'gamma': 0.001, 'kernel': 'rbf'}, {'C': 10, 'gamma': 0.005, 'kernel': 'rbf'}, {'C': 10, 'gamma': 0.001, 'kernel': 'rbf'}, {'C': 100, 'gamma': 0.005, 'kernel': 'rbf'}, {'C': 100, 'gamma': 0.001, 'kernel': 'rbf'}, {'C': 1, 'kernel': 'linear'}, {'C': 10, 'kernel': 'linear'}, {'C': 100, 'kernel': 'linear'}]\n",
      "El parametro correcto es\n",
      "{'C': 10, 'gamma': 0.005, 'kernel': 'rbf'}\n"
     ]
    }
   ],
   "source": [
    "\n",
    "parusado=[]\n",
    "\n",
    "param_grid = ParameterGrid(params_grid)\n",
    "i=0\n",
    "for params in param_grid:\n",
    "    parusado.append(params)\n",
    "    j=0\n",
    "    for j in range(cv):\n",
    "        if(v_eficientes[i]):\n",
    "            par_correcto=params\n",
    "        i=i+1\n",
    "print(parusado)\n",
    "print('El parametro correcto es')\n",
    "print(par_correcto)\n",
    "#Entrena con el parametro optimo\n",
    "clasificador_svm.set_params(**par_correcto)\n",
    "train_labels2 = np.argmax(train_ohelab, axis=1)\n",
    "clasificador_svm.fit(train_data_norm, train_labels2)\n",
    "pickle.dump(clasificador_svm, open('Modelos/Modelo_SVM_op.sav', 'wb'))"
   ]
  },
  {
   "cell_type": "code",
   "execution_count": 12,
   "id": "7fc3297b",
   "metadata": {},
   "outputs": [
    {
     "data": {
      "image/png": "[encoded data removed]",
      "text/plain": [
       "<Figure size 480x480 with 2 Axes>"
      ]
     },
     "metadata": {},
     "output_type": "display_data"
    }
   ],
   "source": [
    "# Calcular la matriz de confusión para parametros optimos\n",
    "predicted_labels = clasificador_svm.predict(val_data_norm)\n",
    "cm = confusion_matrix(val_labels, predicted_labels)\n",
    "\n",
    "# Visualizar la matriz de confusión\n",
    "\n",
    "plt.matshow(cm,cmap='cividis')\n",
    "# Calcular la matriz de confusión\n",
    "cm = confusion_matrix(val_labels, predicted_labels)\n",
    "for i in range(cm.shape[0]):\n",
    "    for j in range(cm.shape[1]):\n",
    "        plt.text(j, i, cm[i, j], ha='center', va='center')\n",
    "plt.colorbar()\n",
    "plt.xlabel('Predicted')\n",
    "plt.ylabel('True')\n",
    "plt.show()"
   ]
  },
  {
   "cell_type": "code",
   "execution_count": null,
   "id": "54793836",
   "metadata": {},
   "outputs": [],
   "source": []
  }
 ],
 "metadata": {
  "colab": {
   "provenance": []
  },
  "gpuClass": "standard",
  "kernelspec": {
   "display_name": "Python 3 (ipykernel)",
   "language": "python",
   "name": "python3"
  },
  "language_info": {
   "codemirror_mode": {
    "name": "ipython",
    "version": 3
   },
   "file_extension": ".py",
   "mimetype": "text/x-python",
   "name": "python",
   "nbconvert_exporter": "python",
   "pygments_lexer": "ipython3",
   "version": "3.10.11"
  }
 },
 "nbformat": 4,
 "nbformat_minor": 5
}
