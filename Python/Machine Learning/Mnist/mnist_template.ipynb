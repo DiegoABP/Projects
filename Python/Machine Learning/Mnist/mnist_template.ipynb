{
 "cells": [
  {
   "cell_type": "code",
   "execution_count": 1,
   "id": "681be972",
   "metadata": {},
   "outputs": [],
   "source": [
    "#!conda insta\n",
    "%matplotlib inline\n"
   ]
  },
  {
   "cell_type": "markdown",
   "id": "5ad40792",
   "metadata": {},
   "source": [
    "##### MNIST template\n",
    "\n",
    "## Tarea 5\n",
    "\n",
    "Escuela de Ingeniería Electrónica<br>\n",
    "EL5857 Aprendizaje Automático<br>\n",
    "I Semestre 2023\n",
    "\n",
    "Este archivo permite cargar el set de datos MNIST para ser usado con scikit-learn.\n",
    "\n",
    "Puede usarlo como base para entrenar sus modelos, y para la selección de modelos.  Debe guardar sus modelos en un archivo para utilizar los mejores de ellos en ``predict_digit.ipynb``, sin necesidad de entrenar todo de nuevo cuando solo se quiera predecir."
   ]
  },
  {
   "cell_type": "markdown",
   "id": "33b69848",
   "metadata": {},
   "source": [
    "MNIST es un set de datos bastante utilizado, y existen múltiples posibilidades de cargarlo en programas de Python.\n",
    "\n",
    "- Usando ``fetch_openml`` de ``sckit-learn`` es una opción pero tiene en algunas versiones el problema de que baja todo el conjunto de internet cada vez que se ejecuta el programa, lo que no lo hace viable.\n",
    "- Usando el paquete ``python-mnist``, que no existe en las distribuciones de conda.\n",
    "- Usando el paquete ``mnist``.\n",
    "- Usando ``pandas``.\n",
    "\n",
    "Aquí usaremos la versión que usa el paquete ``mnist``, para evitar dependencias adicionales a bibliotecas grandes.\n",
    "\n",
    "Dicho paquete carga los datos como un tensor de 60000x28x28, es decir, 60000 imágenes de 28x28 dimensiones.  Cada pixel es de tipo entero sin signo de 8 bits."
   ]
  },
  {
   "cell_type": "code",
   "execution_count": 2,
   "id": "01e7196b",
   "metadata": {
    "scrolled": true
   },
   "outputs": [
    {
     "name": "stdout",
     "output_type": "stream",
     "text": [
      "Collecting package metadata (current_repodata.json): ...working... done\n",
      "Solving environment: ...working... done\n",
      "\n",
      "# All requested packages already installed.\n",
      "\n"
     ]
    }
   ],
   "source": [
    "# Si le falta la biblioteca 'mnist' y usa Anaconda:\n",
    "!conda install mnist\n",
    "\n"
   ]
  },
  {
   "cell_type": "code",
   "execution_count": 3,
   "id": "45c10fee",
   "metadata": {},
   "outputs": [
    {
     "name": "stdout",
     "output_type": "stream",
     "text": [
      "import os\n",
      "import functools\n",
      "import operator\n",
      "import gzip\n",
      "import struct\n",
      "import array\n",
      "import tempfile\n",
      "try:\n",
      "    from urllib.request import urlretrieve\n",
      "except ImportError:\n",
      "    from urllib import urlretrieve  # py2\n",
      "try:\n",
      "    from urllib.parse import urljoin\n",
      "except ImportError:\n",
      "    from urlparse import urljoin\n",
      "import numpy\n",
      "\n",
      "\n",
      "__version__ = '0.2.2'\n",
      "\n",
      "\n",
      "# `datasets_url` and `temporary_dir` can be set by the user using:\n",
      "# >>> mnist.datasets_url = 'http://my.mnist.url'\n",
      "# >>> mnist.temporary_dir = lambda: '/tmp/mnist'\n",
      "datasets_url = 'http://yann.lecun.com/exdb/mnist/'\n",
      "temporary_dir = tempfile.gettempdir\n",
      "\n",
      "\n",
      "class IdxDecodeError(ValueError):\n",
      "    \"\"\"Raised when an invalid idx file is parsed.\"\"\"\n",
      "    pass\n",
      "\n",
      "\n",
      "def download_file(fname, target_dir=None, force=False):\n",
      "    \"\"\"Download fname from the datasets_url, and save it to target_dir,\n",
      "    unless the file already exists, and force is False.\n",
      "\n",
      "    Parameters\n",
      "    ----------\n",
      "    fname : str\n",
      "        Name of the file to download\n",
      "\n",
      "    target_dir : str\n",
      "        Directory where to store the file\n",
      "\n",
      "    force : bool\n",
      "        Force downloading the file, if it already exists\n",
      "\n",
      "    Returns\n",
      "    -------\n",
      "    fname : str\n",
      "        Full path of the downloaded file\n",
      "    \"\"\"\n",
      "    target_dir = target_dir or temporary_dir()\n",
      "    target_fname = os.path.join(target_dir, fname)\n",
      "\n",
      "    if force or not os.path.isfile(target_fname):\n",
      "        url = urljoin(datasets_url, fname)\n",
      "        urlretrieve(url, target_fname)\n",
      "\n",
      "    return target_fname\n",
      "\n",
      "\n",
      "def parse_idx(fd):\n",
      "    \"\"\"Parse an IDX file, and return it as a numpy array.\n",
      "\n",
      "    Parameters\n",
      "    ----------\n",
      "    fd : file\n",
      "        File descriptor of the IDX file to parse\n",
      "\n",
      "    endian : str\n",
      "        Byte order of the IDX file. See [1] for available options\n",
      "\n",
      "    Returns\n",
      "    -------\n",
      "    data : numpy.ndarray\n",
      "        Numpy array with the dimensions and the data in the IDX file\n",
      "\n",
      "    1. https://docs.python.org/3/library/struct.html\n",
      "        #byte-order-size-and-alignment\n",
      "    \"\"\"\n",
      "    DATA_TYPES = {0x08: 'B',  # unsigned byte\n",
      "                  0x09: 'b',  # signed byte\n",
      "                  0x0b: 'h',  # short (2 bytes)\n",
      "                  0x0c: 'i',  # int (4 bytes)\n",
      "                  0x0d: 'f',  # float (4 bytes)\n",
      "                  0x0e: 'd'}  # double (8 bytes)\n",
      "\n",
      "    header = fd.read(4)\n",
      "    if len(header) != 4:\n",
      "        raise IdxDecodeError('Invalid IDX file, '\n",
      "                             'file empty or does not contain a full header.')\n",
      "\n",
      "    zeros, data_type, num_dimensions = struct.unpack('>HBB', header)\n",
      "\n",
      "    if zeros != 0:\n",
      "        raise IdxDecodeError('Invalid IDX file, '\n",
      "                             'file must start with two zero bytes. '\n",
      "                             'Found 0x%02x' % zeros)\n",
      "\n",
      "    try:\n",
      "        data_type = DATA_TYPES[data_type]\n",
      "    except KeyError:\n",
      "        raise IdxDecodeError('Unknown data type '\n",
      "                             '0x%02x in IDX file' % data_type)\n",
      "\n",
      "    dimension_sizes = struct.unpack('>' + 'I' * num_dimensions,\n",
      "                                    fd.read(4 * num_dimensions))\n",
      "\n",
      "    data = array.array(data_type, fd.read())\n",
      "    data.byteswap()  # looks like array.array reads data as little endian\n",
      "\n",
      "    expected_items = functools.reduce(operator.mul, dimension_sizes)\n",
      "    if len(data) != expected_items:\n",
      "        raise IdxDecodeError('IDX file has wrong number of items. '\n",
      "                             'Expected: %d. Found: %d' % (expected_items,\n",
      "                                                          len(data)))\n",
      "\n",
      "    return numpy.array(data).reshape(dimension_sizes)\n",
      "\n",
      "\n",
      "def download_and_parse_mnist_file(fname, target_dir=None, force=False):\n",
      "    \"\"\"Download the IDX file named fname from the URL specified in dataset_url\n",
      "    and return it as a numpy array.\n",
      "\n",
      "    Parameters\n",
      "    ----------\n",
      "    fname : str\n",
      "        File name to download and parse\n",
      "\n",
      "    target_dir : str\n",
      "        Directory where to store the file\n",
      "\n",
      "    force : bool\n",
      "        Force downloading the file, if it already exists\n",
      "\n",
      "    Returns\n",
      "    -------\n",
      "    data : numpy.ndarray\n",
      "        Numpy array with the dimensions and the data in the IDX file\n",
      "    \"\"\"\n",
      "    fname = download_file(fname, target_dir=target_dir, force=force)\n",
      "    fopen = gzip.open if os.path.splitext(fname)[1] == '.gz' else open\n",
      "    with fopen(fname, 'rb') as fd:\n",
      "        return parse_idx(fd)\n",
      "\n",
      "\n",
      "def train_images():\n",
      "    \"\"\"Return train images from Yann LeCun MNIST database as a numpy array.\n",
      "    Download the file, if not already found in the temporary directory of\n",
      "    the system.\n",
      "\n",
      "    Returns\n",
      "    -------\n",
      "    train_images : numpy.ndarray\n",
      "        Numpy array with the images in the train MNIST database. The first\n",
      "        dimension indexes each sample, while the other two index rows and\n",
      "        columns of the image\n",
      "    \"\"\"\n",
      "    return download_and_parse_mnist_file('train-images-idx3-ubyte.gz')\n",
      "\n",
      "\n",
      "def test_images():\n",
      "    \"\"\"Return test images from Yann LeCun MNIST database as a numpy array.\n",
      "    Download the file, if not already found in the temporary directory of\n",
      "    the system.\n",
      "\n",
      "    Returns\n",
      "    -------\n",
      "    test_images : numpy.ndarray\n",
      "        Numpy array with the images in the train MNIST database. The first\n",
      "        dimension indexes each sample, while the other two index rows and\n",
      "        columns of the image\n",
      "    \"\"\"\n",
      "    return download_and_parse_mnist_file('t10k-images-idx3-ubyte.gz')\n",
      "\n",
      "\n",
      "def train_labels():\n",
      "    \"\"\"Return train labels from Yann LeCun MNIST database as a numpy array.\n",
      "    Download the file, if not already found in the temporary directory of\n",
      "    the system.\n",
      "\n",
      "    Returns\n",
      "    -------\n",
      "    train_labels : numpy.ndarray\n",
      "        Numpy array with the labels 0 to 9 in the train MNIST database.\n",
      "    \"\"\"\n",
      "    return download_and_parse_mnist_file('train-labels-idx1-ubyte.gz')\n",
      "\n",
      "\n",
      "def test_labels():\n",
      "    \"\"\"Return test labels from Yann LeCun MNIST database as a numpy array.\n",
      "    Download the file, if not already found in the temporary directory of\n",
      "    the system.\n",
      "\n",
      "    Returns\n",
      "    -------\n",
      "    test_labels : numpy.ndarray\n",
      "        Numpy array with the labels 0 to 9 in the train MNIST database.\n",
      "    \"\"\"\n",
      "    return download_and_parse_mnist_file('t10k-labels-idx1-ubyte.gz')\n",
      "\n",
      "No scikit-learn-intelex found.  We go on with the classic implementation.\n"
     ]
    }
   ],
   "source": [
    "import time\n",
    "import mnist\n",
    "import numpy as np\n",
    "import matplotlib.pyplot as plt\n",
    "\n",
    "#print( open(mnist.__file__).read() )\n",
    "from sklearn.preprocessing import OneHotEncoder\n",
    "\n",
    "try:\n",
    "    from sklearnex import patch_sklearn\n",
    "    patch_sklearn()\n",
    "except:\n",
    "    print(\"No scikit-learn-intelex found.  We go on with the classic implementation.\")\n",
    "\n",
    "\n",
    "from pathlib import Path\n"
   ]
  },
  {
   "cell_type": "code",
   "execution_count": 4,
   "id": "bfef16f8",
   "metadata": {},
   "outputs": [
    {
     "name": "stdout",
     "output_type": "stream",
     "text": [
      "Tardó: 0.5351214408874512 s\n",
      "Entrenamiento: 60000 datos de 28x28 dimensiones\n",
      "Validación   : 10000 datos de 28x28 dimensiones\n"
     ]
    }
   ],
   "source": [
    "tic=time.time()\n",
    "\n",
    "# Asegure que el directorio de datos existe.\n",
    "datadir='C:/Users/Diego/Desktop/weasdelau/aprendizaje/tarea5/mnist_data'\n",
    "Path(datadir).mkdir(parents=False, exist_ok=True)\n",
    "\n",
    "# temporary_dir es una función que retorna el directorio temporal;\n",
    "mnist.temporary_dir = lambda: datadir\n",
    "\n",
    "# Prepare el codificador 'one-hot'\n",
    "enc = OneHotEncoder(handle_unknown='ignore')\n",
    "\n",
    "# La primera vez, esto puede tardar unos segundos a minutos por tener\n",
    "# que bajar los datos originales de internet.\n",
    "# Después de eso debería ser rápido.\n",
    "\n",
    "# Prepare los datos de entrenamiento\n",
    "\n",
    "\n",
    "# Cargar los datos de entrenamiento y validación\n",
    "#train_images, train_labels = mndata.load_training()\n",
    "#val_images, val_labels = mndata.load_testing()\n",
    "\n",
    "train_images = mnist.train_images() # Esto es un tensor m x 28 x 28#train_labels = mnist.train_labels().astype(int)\n",
    "train_labels = mnist.train_labels().astype(int)\n",
    "train_ohelab = enc.fit_transform(train_labels.reshape(-1,1)).toarray() # labels one-hot encoded\n",
    "\n",
    "m,h,w=train_images.shape\n",
    "train_data = train_images.reshape((m,w*h)).astype(float)/255 # Esto es una matrix de m x 784\n",
    "\n",
    "# Prepare los datos de validación\n",
    "\n",
    "\n",
    "\n",
    "val_images = mnist.test_images() # Esto es un tensor de m x 28 x 28\n",
    "val_labels = mnist.test_labels().astype(int)\n",
    "val_ohelab = enc.transform(val_labels.reshape(-1,1)).toarray()\n",
    "\n",
    "vm,vh,vw=val_images.shape\n",
    "val_data = val_images.reshape((vm,vw*vh)).astype(float)/255 # Esto es una matrix de m x 784\n",
    "\n",
    "\n",
    "toc=time.time()-tic\n",
    "print(\"Tardó: {0} s\".format(toc))\n",
    "\n",
    "print(\"Entrenamiento: {0} datos de {1}x{2} dimensiones\".format(m,h,w))\n",
    "print(\"Validación   : {0} datos de {1}x{2} dimensiones\".format(vm,vh,vw))"
   ]
  },
  {
   "cell_type": "markdown",
   "id": "6e5948a1",
   "metadata": {},
   "source": [
    "A este punto, se cuenta con la siguiente información para poder entrenar:\n",
    "\n",
    "- train_data: arreglo de 60000 datos de 784 dimensiones\n",
    "- train_label: vector de 60000 etiquetas como enteros entre 0 y 9\n",
    "- train_ohelab: arreglo de 60000x10 con la codificación de las etiquetas _one-hot_\n",
    "- val_data: arreglo de 10000 datos de 784 dimensiones\n",
    "- val_label: vector de 10000 etiquetas como enteros entre 0 y 9\n",
    "- val_ohelab: arreglo de 10000x10 con la codificación de las etiquetas _one-hot_\n"
   ]
  },
  {
   "cell_type": "code",
   "execution_count": 5,
   "id": "be8373f7",
   "metadata": {},
   "outputs": [
    {
     "data": {
      "image/png": "[encoded data removed]",
      "text/plain": [
       "<Figure size 640x480 with 1 Axes>"
      ]
     },
     "metadata": {},
     "output_type": "display_data"
    },
    {
     "name": "stdout",
     "output_type": "stream",
     "text": [
      "Etiqueta entera: 5\n",
      "         one-hot: [0. 0. 0. 0. 0. 1. 0. 0. 0. 0.]\n"
     ]
    },
    {
     "data": {
      "image/png": "[encoded data removed]",
      "text/plain": [
       "<Figure size 640x480 with 1 Axes>"
      ]
     },
     "metadata": {},
     "output_type": "display_data"
    },
    {
     "name": "stdout",
     "output_type": "stream",
     "text": [
      "Etiqueta entera: 2\n",
      "         one-hot: [0. 0. 1. 0. 0. 0. 0. 0. 0. 0.]\n"
     ]
    },
    {
     "data": {
      "image/png": "[encoded data removed]",
      "text/plain": [
       "<Figure size 640x480 with 1 Axes>"
      ]
     },
     "metadata": {},
     "output_type": "display_data"
    },
    {
     "name": "stdout",
     "output_type": "stream",
     "text": [
      "Etiqueta entera: 1\n",
      "         one-hot: [0. 1. 0. 0. 0. 0. 0. 0. 0. 0.]\n"
     ]
    },
    {
     "data": {
      "image/png": "[encoded data removed]",
      "text/plain": [
       "<Figure size 640x480 with 1 Axes>"
      ]
     },
     "metadata": {},
     "output_type": "display_data"
    },
    {
     "name": "stdout",
     "output_type": "stream",
     "text": [
      "Etiqueta entera: 0\n",
      "         one-hot: [1. 0. 0. 0. 0. 0. 0. 0. 0. 0.]\n"
     ]
    }
   ],
   "source": [
    "# Muestre algunas muestras\n",
    "samples = np.random.choice(np.arange(m),4,replace=False)\n",
    "\n",
    "for i in samples:\n",
    "    plt.imshow(train_data[i].reshape((28,28)),cmap='gray')\n",
    "    plt.show()\n",
    "\n",
    "    print(\"Etiqueta entera:\",train_labels[i])\n",
    "    print(\"         one-hot:\",train_ohelab[i])\n"
   ]
  },
  {
   "cell_type": "markdown",
   "id": "34efbf8f",
   "metadata": {},
   "source": [
    "## Entrenar/seleccionar modelos\n",
    "\n",
    "A continuación usted debe entrenar y seleccionar los modelos, y guardar el mejor de ellos para cada tipo (SVM, RDF, kNN)\n",
    "\n",
    "No olvidar la regla de oro: **¡siempre se deben normalizar los datos!**"
   ]
  }
 ],
 "metadata": {
  "kernelspec": {
   "display_name": "Python 3 (ipykernel)",
   "language": "python",
   "name": "python3"
  },
  "language_info": {
   "codemirror_mode": {
    "name": "ipython",
    "version": 3
   },
   "file_extension": ".py",
   "mimetype": "text/x-python",
   "name": "python",
   "nbconvert_exporter": "python",
   "pygments_lexer": "ipython3",
   "version": "3.10.10"
  }
 },
 "nbformat": 4,
 "nbformat_minor": 5
}
