{
 "cells": [
  {
   "cell_type": "markdown",
   "id": "4be33452",
   "metadata": {},
   "source": [
    "# Primera Etapa: DQN"
   ]
  },
  {
   "cell_type": "code",
   "execution_count": null,
   "id": "0643b084",
   "metadata": {},
   "outputs": [],
   "source": [
    "#!pip install gymnasium\n",
    "#!pip install gymnasium[atari]\n",
    "#!pip install gymnasium[accept-rom-license]\n",
    "#!pip install gymnasium[box2d]\n",
    "#!pip install pygame"
   ]
  },
  {
   "cell_type": "code",
   "execution_count": null,
   "id": "eaa76de7",
   "metadata": {},
   "outputs": [],
   "source": [
    "import gymnasium as gym\n",
    "env = gym.make(\"ALE/Riverraid-v5\", render_mode=\"human\")\n",
    "#env = gym.make('LunarLander-v2')\n",
    "#env.render(mode='dummy')\n",
    "observation, info = env.reset()\n",
    "\n",
    "for _ in range(500):\n",
    "    action = env.action_space.sample()  # agent policy that uses the observation and info\n",
    "    observation, reward, terminated, truncated, info = env.step(action)\n",
    "\n",
    "    if terminated or truncated:\n",
    "        observation, info = env.reset()\n",
    "\n",
    "    print(observation)\n",
    "env.close()"
   ]
  },
  {
   "cell_type": "code",
   "execution_count": null,
   "id": "b8986e5a",
   "metadata": {},
   "outputs": [],
   "source": [
    "# Pruebas"
   ]
  }
 ],
 "metadata": {
  "kernelspec": {
   "display_name": "Python 3 (ipykernel)",
   "language": "python",
   "name": "python3"
  },
  "language_info": {
   "codemirror_mode": {
    "name": "ipython",
    "version": 3
   },
   "file_extension": ".py",
   "mimetype": "text/x-python",
   "name": "python",
   "nbconvert_exporter": "python",
   "pygments_lexer": "ipython3",
   "version": "3.8.16"
  }
 },
 "nbformat": 4,
 "nbformat_minor": 5
}
